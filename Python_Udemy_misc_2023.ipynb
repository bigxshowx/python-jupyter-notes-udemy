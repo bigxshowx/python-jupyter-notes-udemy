{
 "cells": [
  {
   "cell_type": "code",
   "execution_count": null,
   "id": "26519a98",
   "metadata": {},
   "outputs": [],
   "source": [
    "2+6"
   ]
  },
  {
   "cell_type": "code",
   "execution_count": null,
   "id": "226b6e81",
   "metadata": {},
   "outputs": [],
   "source": [
    "a = 10"
   ]
  },
  {
   "cell_type": "code",
   "execution_count": null,
   "id": "6faababb",
   "metadata": {},
   "outputs": [],
   "source": [
    "a = a + a"
   ]
  },
  {
   "cell_type": "code",
   "execution_count": null,
   "id": "a5058e40",
   "metadata": {},
   "outputs": [],
   "source": [
    "a"
   ]
  },
  {
   "cell_type": "code",
   "execution_count": null,
   "id": "fe77158b",
   "metadata": {},
   "outputs": [],
   "source": [
    "5 + 1.0"
   ]
  },
  {
   "cell_type": "code",
   "execution_count": null,
   "id": "93f02f70",
   "metadata": {},
   "outputs": [],
   "source": [
    "#indexing\n",
    "str1 = 'Hello'\n",
    "print(str1[4])\n",
    "print(str1[-1])\n",
    "print(str1[0:5:2])\n",
    "print(str1[:3])\n",
    "print(str1[2:4])\n",
    "print(str1[::2])\n",
    "print(str1[::-1]) # reverse a string\n",
    "print('hello')\n",
    "'hello'"
   ]
  },
  {
   "cell_type": "code",
   "execution_count": 103,
   "id": "1e135bc3",
   "metadata": {},
   "outputs": [
    {
     "name": "stdout",
     "output_type": "stream",
     "text": [
      "I'm Hungry\n",
      "AAAAAAAAAA\n"
     ]
    }
   ],
   "source": [
    "#string concatenation\n",
    "x = \"I'm \"\n",
    "print(x + \"Hungry\")\n",
    "\n",
    "print('A' * 10)"
   ]
  },
  {
   "cell_type": "code",
   "execution_count": null,
   "id": "19391d1e",
   "metadata": {},
   "outputs": [],
   "source": [
    "letterZ = 'z'\n",
    "letterZ * 10"
   ]
  },
  {
   "cell_type": "code",
   "execution_count": null,
   "id": "3415b741",
   "metadata": {},
   "outputs": [],
   "source": [
    "#string interpolation\n",
    "print('The {2} {1} {0} {0} {0}'.format('fox','brown','quick'))"
   ]
  },
  {
   "cell_type": "code",
   "execution_count": null,
   "id": "749c1a0e",
   "metadata": {},
   "outputs": [],
   "source": [
    "result = 100/666\n",
    "result"
   ]
  },
  {
   "cell_type": "code",
   "execution_count": null,
   "id": "9a9866fd",
   "metadata": {},
   "outputs": [],
   "source": [
    "# precision float formatting string literals\n",
    "# Check course notbook for alignments etc etc\n",
    "# https://pyformat.info/\n",
    "print(\"The result is {r}\".format(r=result))\n",
    "print(\"The result is {r:1.4f}\".format(r=result))\n",
    "print(\"The result is {r:10.4f}\".format(r=result))"
   ]
  },
  {
   "cell_type": "code",
   "execution_count": null,
   "id": "c60cafe9",
   "metadata": {},
   "outputs": [],
   "source": [
    "# f string literal\n",
    "name = \"Tony\"\n",
    "age = 3\n",
    "print(f'Hello, my name is {name} and age is {age}.')"
   ]
  },
  {
   "cell_type": "code",
   "execution_count": null,
   "id": "d7f85b04",
   "metadata": {},
   "outputs": [],
   "source": [
    "word = 'rules'\n",
    "print('Python {w}!'.format(w=word))"
   ]
  },
  {
   "cell_type": "code",
   "execution_count": null,
   "id": "5e07528d",
   "metadata": {},
   "outputs": [],
   "source": [
    "#remove character from string: replace method\n",
    "str55 = \"Remove the spaces\"\n",
    "\n",
    "print(str55.replace(' ',''))\n",
    "\n",
    "#example 2\n",
    "str56 = \"Remove the spaces\"\n",
    "''.join(str56.split(' '))"
   ]
  },
  {
   "cell_type": "code",
   "execution_count": null,
   "id": "02452180",
   "metadata": {},
   "outputs": [],
   "source": [
    "#lists\n",
    "\n",
    "my_list = [1,'ok',1.098]\n",
    "len(my_list)\n",
    "print(my_list[1:])\n",
    "mylist = ['this','concatenated']\n",
    "test = mylist + my_list\n",
    "test1 = [mylist, my_list]\n",
    "print(test1)\n",
    "\n",
    "#lists are mutable, can be reassigned\n",
    "my_list[0] = 'ONE!!'\n",
    "\n",
    "#append will perminently change the list\n",
    "my_list.append('Added this shit in')\n",
    "my_list.append('SEVEN')\n",
    "test1\n",
    "\n",
    "#remove item from list\n",
    "popped_item = my_list.pop()\n",
    "print(my_list)\n",
    "print(popped_item)\n",
    "my_list.pop(-3)\n",
    "\n",
    "#sorting lists\n",
    "num_list = [3,5,3,7,9,4,5]\n",
    "letter_list = ['a', 'b', 'c', 'd']\n",
    "num_list.sort()\n",
    "print(num_list)\n",
    "letter_list.reverse()\n",
    "letter_list"
   ]
  },
  {
   "cell_type": "code",
   "execution_count": null,
   "id": "6e45f58b",
   "metadata": {},
   "outputs": [],
   "source": [
    "#dictionaries dictionary\n",
    "\n",
    "my_dict = {'key1':'value1', 'key2':'value 2', 'k3': [0,1,2]}\n",
    "print(my_dict['key2'])\n",
    "print(my_dict['k3'][2])\n",
    "my_dict['New key k4'] = 'new value just added'\n",
    "print(my_dict)\n",
    "my_dict['key2'] = 'NEW VALUE reassigned !!'\n",
    "print(my_dict)\n",
    "print(my_dict.items()) ## Tuples\n",
    "my_dict.values()"
   ]
  },
  {
   "cell_type": "code",
   "execution_count": null,
   "id": "0b4f2ba3",
   "metadata": {},
   "outputs": [],
   "source": [
    "#tuples \n",
    "\n",
    "t = (1,2,3,4,'ok','a','a','b')\n",
    "print(type(t))\n",
    "print(len(t))\n",
    "print(t[-4])\n",
    "print(t.index('ok'))\n",
    "print(t.count('a'))\n",
    "t[6::]"
   ]
  },
  {
   "cell_type": "code",
   "execution_count": null,
   "id": "fde782e0",
   "metadata": {},
   "outputs": [],
   "source": [
    "#sets \n",
    "\n",
    "myset = set()\n",
    "myset.add(1)\n",
    "myset.add(2)\n",
    "print(myset)\n",
    "\n",
    "list2 = [5,5,5,5,5,5,5,5,]\n",
    "myset2 = set(list2)\n",
    "print(list2)\n",
    "myset2"
   ]
  },
  {
   "cell_type": "code",
   "execution_count": null,
   "id": "3f908e76",
   "metadata": {},
   "outputs": [],
   "source": [
    "mississippi = set('Mississippi')\n",
    "print(mississippi)\n",
    "testlist = list(mississippi)\n",
    "print(testlist)\n",
    "set([1,1,2,3])"
   ]
  },
  {
   "cell_type": "code",
   "execution_count": null,
   "id": "e4875ad3",
   "metadata": {},
   "outputs": [],
   "source": [
    "#Boolean and comparion operators\n",
    "print( 1 ==1 )\n",
    "print (type(True))\n",
    "\n",
    "print (1 == 1 and 2 == 2)\n",
    "print (not 1==1 and 2==2)\n",
    "print (1!=2)"
   ]
  },
  {
   "cell_type": "code",
   "execution_count": null,
   "id": "47b3b33b",
   "metadata": {},
   "outputs": [],
   "source": [
    "set([1,1,2,3])"
   ]
  },
  {
   "cell_type": "code",
   "execution_count": null,
   "id": "2109babe",
   "metadata": {},
   "outputs": [],
   "source": [
    "# I/O files notes:\n",
    "#file permissions ie: read only via \"mode\"\n",
    "\n",
    "myfile = open('myfile1.txt')\n",
    "myfile.read()\n",
    "myfile.seek(0)\n",
    "myfile.readlines() # adds each line into a list\n",
    "myfile.close() # do this cause python has it open inthe background..\n",
    "\n",
    "#to avoid this can use this function:\n",
    "with open('myfile1.txt') as new_file:\n",
    "    contents = new_file.read()\n",
    "    \n",
    "print(contents)\n",
    "\n",
    "with open('myfile2.txt', mode='r') as f:\n",
    "    print(f.read())\n",
    "\n",
    "#mode 'a' is append, the cursor is at the end of the file so it will write to it.   \n",
    "with open('myfile2.txt', mode='a') as f:\n",
    "    print(f.write('\\n\\nI really hate this uncertainty'))\n",
    "    \n",
    "with open('myfile2.txt', mode='r') as f:\n",
    "    print(f.read())"
   ]
  },
  {
   "cell_type": "code",
   "execution_count": null,
   "id": "5d9c3927",
   "metadata": {},
   "outputs": [],
   "source": [
    "#create a file with Python\n",
    "\n",
    "with open('fjkfhkfgsdakfgk.txt', mode='w') as f:\n",
    "    f.write(\"I really hate this f'n uncertainty\")\n",
    "    \n",
    "with open('fjkfhkfgsdakfgk.txt', mode='r') as f:\n",
    "    print(f.read())"
   ]
  },
  {
   "cell_type": "code",
   "execution_count": null,
   "id": "de2bfc12",
   "metadata": {},
   "outputs": [],
   "source": [
    "#create a file with Python\n",
    "\n",
    "x = open('stopclanking.txt', 'w')\n",
    "x.write('stfu I will buy you a Mouse Pad')\n",
    "x.close()"
   ]
  },
  {
   "cell_type": "code",
   "execution_count": null,
   "id": "0254d859",
   "metadata": {},
   "outputs": [],
   "source": [
    "#control flow: if/elif/else, For loops, while loops\n",
    "\n",
    "# **** For / Else statements, similar to if/else\n",
    "\n",
    "#for i in ['f','t','s']:\n",
    "#    print(i)\n",
    "\n",
    "\n",
    "mylist4 = [1,2,3,4,5,6,7,8,9,10]\n",
    "\n",
    "newlist = []\n",
    "\n",
    "for i in mylist4:\n",
    "    if i % 2 == 0:\n",
    "        print(i)\n",
    "    else:\n",
    "        print(f'{i} is Odd')\n",
    "        \n",
    "print('\\n')\n",
    "\n",
    "total = 0\n",
    "for i in mylist4:\n",
    "    total += i\n",
    "\n",
    "total\n",
    "for letter in 'hello':\n",
    "    print(letter)\n",
    "    \n",
    "print('\\n')    \n",
    "    \n",
    "for item in (1,2,3):\n",
    "    print(item)\n",
    "    \n",
    "print('\\n')\n",
    "\n",
    "#tuple unpacking (for tuples in a list):\n",
    "mytuplist = [(1,2),(3,5),(5,6),(7,8)]\n",
    "print(len(mytuplist))\n",
    "print('\\n')\n",
    "\n",
    "for a,b in mytuplist:\n",
    "    print(a)\n",
    "    \n",
    "print('\\n')\n",
    "\n",
    "#iterate through dictionary + unpacking:\n",
    "d4 = {'key1':10, 'key2':'FUD'}\n",
    "for key,value in d4.items():\n",
    "    print(value)"
   ]
  },
  {
   "cell_type": "code",
   "execution_count": 13,
   "id": "b6db8df3",
   "metadata": {},
   "outputs": [
    {
     "name": "stdout",
     "output_type": "stream",
     "text": [
      "X Y X \n",
      "\n",
      "\n",
      "T\n",
      "n\n",
      "y\n",
      "\n",
      "\n",
      "T\n",
      "o\n",
      "n\n"
     ]
    }
   ],
   "source": [
    "#while loops:\n",
    "x = 50\n",
    "while x < 5:\n",
    "    print(f'X is {x}')\n",
    "    x +=1\n",
    "else:\n",
    "    print('X Y X ')\n",
    "\n",
    "print('\\n')\n",
    "    \n",
    "#continue - goes to the top of the closest enclosing loop.\n",
    "for letter in \"Tony\":\n",
    "    if letter == 'o':\n",
    "        continue #ie: stop here and go back to the top of the loop...\n",
    "    print(letter)\n",
    "\n",
    "print('\\n')\n",
    "    \n",
    "#Break - Breaks out of the current closest enclosing loop.\n",
    "for letter in 'Tony':\n",
    "    if letter == 'y':\n",
    "        break #ie: stop this whole loop and move out of loop.\n",
    "    print(letter)\n",
    "        \n",
    "#pass - does nothing, a placeholder after a for staement to prevent a syntax error"
   ]
  },
  {
   "cell_type": "code",
   "execution_count": null,
   "id": "b6932bf3",
   "metadata": {
    "scrolled": false
   },
   "outputs": [],
   "source": [
    "# Operator key words.\n",
    "## Jupyter shift + tab to see more details on a method's arguments\n",
    "\n",
    "# range is similar to slice... range(start,stop,step)\n",
    "for num in range(1,10,2):\n",
    "    print(num)\n",
    "\n",
    "print(list(range(1,10,2)))\n",
    "\n",
    "print('\\n')\n",
    "\n",
    "#enumerate --> useful to create tuples of an iterable object's item and it's index\n",
    "for item in enumerate('Tony'):\n",
    "    print(item)\n",
    "\n",
    "print('\\n')\n",
    "\n",
    "#zip --> can Zip together two lists: useful in combination of unpacking, goes as far as shortest list\n",
    "zip1 = [1,2,3]\n",
    "zip2 = ['a','b','c','d']\n",
    "zip3 = [True,False,True]\n",
    "\n",
    "for item in zip(zip1,zip2,zip3):\n",
    "    print(item)\n",
    "    \n",
    "print('\\n')\n",
    "\n",
    "for a,b,c in zip(zip1,zip2,zip3):\n",
    "    print(b)\n",
    "\n",
    "print(list(zip(zip1,zip2,zip3)))\n",
    "\n",
    "print('\\n')\n",
    "# 'IN' operator checks if something is in.  Works for lists, strings, and Keys, any iterable objects\n",
    "print( 'x' in [1,2,'x'] )\n",
    "\n",
    "print ( 365 in {'k1':364, 'k2':365}.values() )\n",
    "\n",
    "# min max of a list\n",
    "print( min(zip1) )\n",
    "print( max(zip1) )"
   ]
  },
  {
   "cell_type": "code",
   "execution_count": null,
   "id": "34b85037",
   "metadata": {},
   "outputs": [],
   "source": [
    "#random, can check functions from this built in Library\n",
    "from random import shuffle\n",
    "mylist2 = [1,2,3,4,5]\n",
    "shuffle(mylist2)\n",
    "\n",
    "print(mylist2)\n",
    "\n",
    "from random import randint\n",
    "randint(0,100)"
   ]
  },
  {
   "cell_type": "code",
   "execution_count": null,
   "id": "5ce7c43f",
   "metadata": {},
   "outputs": [],
   "source": [
    "resultInput = int(input('Please choose a number: '))\n",
    "\n",
    "resultInput"
   ]
  },
  {
   "cell_type": "code",
   "execution_count": null,
   "id": "84d81f42",
   "metadata": {},
   "outputs": [],
   "source": [
    "#list comprehension: a flattened out for loop, created the list form the iterable items (elements)\n",
    "mylist3 = [element for element in 'Tony'] \n",
    "\n",
    "mylist3 = [letter for letter in 'Tony']\n",
    "print(mylist3)\n",
    "\n",
    "mylist3 = [num for num in range(0,11)]\n",
    "print(mylist3)\n",
    "\n",
    "#can add in logic, the first item is the indented space of the for loop:\n",
    "mylist3 = [num * 2 for num in range(0,11)]\n",
    "print(mylist3)\n",
    "\n",
    "#same but now add in if statement to end\n",
    "mylist3 = [x*2 for x in range(0,11) if x % 2==0]\n",
    "print(mylist3)\n",
    "#can also do if/else but less reasable and order changes...\n",
    "# mylist3 = [x if x%2==0 else 'Odd' for x in range(0,11)]\n",
    "\n",
    "#example:\n",
    "celcius = [0, 10, 20, 34.2]\n",
    "farenheit = [ ((9/5)*temp + 32) for temp in celcius]\n",
    "print(farenheit)\n",
    "\n",
    "#example2\n",
    "farenheit2 = []\n",
    "for temp in celcius:\n",
    "    farenheit2.append((9/5)*temp+32)\n",
    "    \n",
    "farenheit2"
   ]
  },
  {
   "cell_type": "code",
   "execution_count": null,
   "id": "3c01f5e9",
   "metadata": {},
   "outputs": [],
   "source": [
    "#embedded for loops\n",
    "mymylist = []\n",
    "for x in [2,4,6]:\n",
    "    for y in [1,10,100]:\n",
    "        mymylist.append(x*y)\n",
    "    \n",
    "print(mymylist)\n"
   ]
  },
  {
   "cell_type": "code",
   "execution_count": null,
   "id": "5642ba46",
   "metadata": {},
   "outputs": [],
   "source": [
    "#Methods\n",
    "\n",
    "help([].insert)"
   ]
  },
  {
   "cell_type": "code",
   "execution_count": null,
   "id": "23163ecc",
   "metadata": {},
   "outputs": [],
   "source": [
    "#Functions\n",
    "def say_name(name='whtevrt'):\n",
    "    return name\n",
    "\n",
    "say_name()"
   ]
  },
  {
   "cell_type": "code",
   "execution_count": null,
   "id": "d9bbccac",
   "metadata": {},
   "outputs": [],
   "source": [
    "# *args --> arguments --> can pass in any amount of arguments as you want, treats a tuple of arguments.\n",
    "\n",
    "# ** kwargs --> keyword arguments, returns a dictionary of arguments\n",
    "\n",
    "\n",
    "def args_example(*args):\n",
    "    print(args)\n",
    "    \n",
    "args_example(4,'yy',True)\n",
    "\n",
    "\n",
    "def kwargs_example(**kwargs):\n",
    "    print(kwargs)\n",
    "    print('\\n')\n",
    "    \n",
    "kwargs_example(fruite='apple', veggie='Brocoli')\n",
    "\n",
    "def both_example(*args,**kwargs):\n",
    "    print(args)\n",
    "    print(kwargs)\n",
    "    print(f\"I would like {args[0]} {kwargs['food']}.\")\n",
    "    \n",
    "both_example(10,20,30, fruit='orange', food='Wendys Baconator', animal='dog')"
   ]
  },
  {
   "cell_type": "code",
   "execution_count": null,
   "id": "186e75aa",
   "metadata": {},
   "outputs": [],
   "source": [
    "def cammel_case(str):\n",
    "    str = str.upper()\n",
    "    str_list = list(str)\n",
    "    str_list[0] = str_list[0].lower()\n",
    "    i = 1\n",
    "    while i < len(str_list):\n",
    "        if i % 2 == 0:\n",
    "            str_list[i] = str_list[i].lower()\n",
    "            \n",
    "        i += 1\n",
    "\n",
    "    return ''.join(str_list)\n",
    "\n",
    "cammel_case(\"Anthropomorphism\")"
   ]
  },
  {
   "cell_type": "code",
   "execution_count": null,
   "id": "7d55aea0",
   "metadata": {},
   "outputs": [],
   "source": [
    "def check_if_prime(digit): \n",
    "    how_many_dividors = []\n",
    "    for item in list(range(2,digit+1)):\n",
    "        if digit % item == 0:\n",
    "            how_many_dividors.append(item)\n",
    "        \n",
    "    if len(how_many_dividors) == 1:\n",
    "        print('Prime Number')\n",
    "    else:\n",
    "        print('Not Prime')\n",
    "\n",
    "check_if_prime(7)"
   ]
  },
  {
   "cell_type": "code",
   "execution_count": null,
   "id": "c771879e",
   "metadata": {},
   "outputs": [],
   "source": [
    "#Lamba Expressions: Map & Filter **WHAT ABOUT REDUCE!!???\n",
    "\n",
    "#Filter: iterates returns all items that are true, so the function has to return a boolean\n",
    "some_nums = [2,3,4,5,6,7,8]\n",
    "\n",
    "def check_evens2(num):\n",
    "    return num % 2 == 0 \n",
    "\n",
    "filtered_list = list(filter(check_evens2,some_nums))\n",
    "\n",
    "#can either transform into a list\n",
    "print(filtered_list)\n",
    "#re-written as lambda:\n",
    "print(list(filter(lambda num : num%2==0, some_nums)))\n",
    "\n",
    "print('\\n')\n",
    "#or iterate through the results of the filter function:\n",
    "for n in filter(check_evens2,some_nums):\n",
    "    print(n)\n",
    "\n",
    "print('\\n')    \n",
    "#map:\n",
    "def make_sq_root(num):\n",
    "    result = num ** 0.5\n",
    "    return result\n",
    "\n",
    "mapped_list = list(map(make_sq_root,some_nums))\n",
    "print(mapped_list)\n",
    "\n",
    "\n",
    "#lambda can simplify a function: also known as an anonymous function\n",
    "\n",
    "#step 1\n",
    "def squared(num):\n",
    "    result = num ** 2\n",
    "    return result\n",
    "\n",
    "#step 2: can be re-written as one line but bad coding styling:\n",
    "def squared1(num): return num ** 2\n",
    "\n",
    "#step 3: written as lambda, since only generally used once it doesn't need a named\n",
    "lambda num: num ** 2\n",
    "\n",
    "#can be assigned but not really useful, more useful to add in as the function for map & filter:\n",
    "squared2 = lambda num: num ** 2\n",
    "print(squared2(4))\n",
    "\n",
    "#How Lambda is most useful:\n",
    "print(list(map(lambda num : num**2, some_nums)))\n",
    "\n",
    "#example:\n",
    "some_names = ['Tony','Robert','Anthony']\n",
    "\n",
    "list(map(lambda name:name[0],some_names))[::-1]\n"
   ]
  },
  {
   "cell_type": "code",
   "execution_count": null,
   "id": "bfe71600",
   "metadata": {},
   "outputs": [],
   "source": [
    "#Nested Statements and Scope: \n",
    "#namespace, can jump to global level\n",
    "'''LEGB:\n",
    "Local: def or lamba\n",
    "Enclosing: functions within functions, from inner to outer\n",
    "Global: top level module file or declared global in a def in the the top-level file.\n",
    "Built-in: pre-assigned in python'''\n",
    "\n",
    "#global, generally no indentation\n",
    "name = 'This is GLOBAL'\n",
    "\n",
    "def greet():\n",
    "    \n",
    "    #this is enclosing\n",
    "    name = 'Rokatuko'\n",
    "    \n",
    "    def say_hello1():\n",
    "        \n",
    "        #this is local\n",
    "        print('Hello ' + name)\n",
    "    \n",
    "    say_hello1()\n",
    "    \n",
    "greet()\n",
    "\n",
    "#avoid using global which allows you to change global namespace, better to pass in as paramter/argument\n",
    "#, reassign, then retutn the reassignment...  x = func(x) reassigned vs. reassigned using global keyword\n",
    "global"
   ]
  },
  {
   "cell_type": "code",
   "execution_count": 22,
   "id": "c889f9b1",
   "metadata": {},
   "outputs": [
    {
     "name": "stdout",
     "output_type": "stream",
     "text": [
      "{1, 2, 3}\n",
      "\n",
      "{1, 2, 3, 4, 5}\n",
      "\n",
      "{3}\n",
      "\n",
      "{1, 2}\n",
      "{4, 5}\n",
      "\n",
      "{1, 2, 4, 5}\n",
      "\n",
      "True\n",
      "False\n",
      "\n",
      "True\n",
      "False\n"
     ]
    }
   ],
   "source": [
    "# set comparrisons tutorial\n",
    "\n",
    "my_list = [1,1,2,2,3,3]\n",
    "my_set = set(my_list)\n",
    "print(my_set)\n",
    "print()\n",
    "\n",
    "# union combines two sets keeps only unique\n",
    "a = {1,2,3}\n",
    "b = {3,4,5}\n",
    "c = a.union(b)\n",
    "print(c)\n",
    "print()\n",
    "\n",
    "# intersection takes two sets and only returns whats in both\n",
    "a = {1,2,3}\n",
    "b = {3,4,5}\n",
    "cc = a.intersection(b)\n",
    "print(cc)\n",
    "print()\n",
    "\n",
    "# Difference takes anything in one set that is NOT in another!\n",
    "a = {1,2,3}\n",
    "b = {3,4,5}\n",
    "ccc = a.difference(b)\n",
    "ddd = b.difference(a)\n",
    "print(ccc)\n",
    "print(ddd)\n",
    "print()\n",
    "\n",
    "# Symmetric difference will filter out anything common in both Sets\n",
    "a = {1,2,3}\n",
    "b = {3,4,5}\n",
    "cccc = a.symmetric_difference(b)\n",
    "dddd = b.symmetric_difference(a)\n",
    "print(cccc)\n",
    "print()\n",
    "\n",
    "# Subset, is A a subset of B?  Returns Boolean\n",
    "aa = {1,2,3}\n",
    "bb = {1,2,3,4,5}\n",
    "c5 = aa.issubset(bb)\n",
    "d5 = bb.issubset(aa)\n",
    "print(c5)\n",
    "print(d5)\n",
    "print()\n",
    "\n",
    "# SuperSet, does A have everything another set does, does A encompas B?\n",
    "aaa = {1,2,3,4,5}\n",
    "bbb = {1,2,3}\n",
    "c6 = aaa.issuperset(bbb)\n",
    "d6 = bbb.issuperset(aaa)\n",
    "print(c6)\n",
    "print(d6)"
   ]
  },
  {
   "cell_type": "code",
   "execution_count": null,
   "id": "748c3f8f",
   "metadata": {},
   "outputs": [],
   "source": [
    "def user_choice1():\n",
    "    #initial Choice variables\n",
    "    choice = 'Wrong'\n",
    "    acceptable_range = range(0,10+1)\n",
    "    within_range = False\n",
    "    \n",
    "    #two conditions to check for \n",
    "    while choice.isdigit() == False or within_range == False:\n",
    "        \n",
    "        choice = input('Pls enter a number: 0 - 10: ')\n",
    "        \n",
    "        #digit check\n",
    "        if choice.isdigit() == False:\n",
    "            print(\"Follow the rules dummy! That's not s digit!\")\n",
    "    \n",
    "        #range check\n",
    "        if choice.isdigit() == True:\n",
    "            if int(choice) in acceptable_range:\n",
    "                within_range = True\n",
    "            else:\n",
    "                within_range = False\n",
    "                print(\"That's out of the range you moron!\")\n",
    "            \n",
    "    return int(choice)"
   ]
  },
  {
   "cell_type": "code",
   "execution_count": null,
   "id": "aa2e1479",
   "metadata": {},
   "outputs": [],
   "source": [
    "testingthisshit = ['WOW',2,3]"
   ]
  },
  {
   "cell_type": "code",
   "execution_count": null,
   "id": "c8865636",
   "metadata": {},
   "outputs": [],
   "source": [
    "testingthisshit[False]"
   ]
  },
  {
   "cell_type": "code",
   "execution_count": 21,
   "id": "e320671e",
   "metadata": {},
   "outputs": [
    {
     "name": "stdout",
     "output_type": "stream",
     "text": [
      "False\n",
      "Player: Pick your Square: h\n",
      "h\n",
      "Invalid option, try again.\n",
      "Player: Pick your Square: f\n",
      "f\n",
      "Invalid option, try again.\n",
      "Player: Pick your Square: 7\n",
      "7\n",
      "['7', ' ', ' ', ' ', ' ', ' ', ' ', ' ', ' ']\n",
      "Square already taken, please choose again.\n",
      "Player: Pick your Square: 5\n",
      "5\n",
      "\n",
      "\n",
      "['7', ' ', ' ', ' ', ' ', ' ', ' ', ' ', ' ']\n"
     ]
    }
   ],
   "source": [
    "#checkign for two conditions in while loop:\n",
    "\n",
    "x = 2\n",
    "while x < 5 and False:\n",
    "    print(x)\n",
    "    x += 1\n",
    "\n",
    "game_board = [\"7\",\" \",\" \",\" \",\" \",\" \",\" \",\" \",\" \"]\n",
    "choice_map = {\"7\": 0, \"8\": 1, \"9\": 2, \"4\": 3, \"5\": 4, \"6\": 5, \"1\": 6, \"2\": 7, \"3\": 8, 'start': False}\n",
    "print(choice_map['start'])\n",
    "\n",
    "def check_free_square(index):\n",
    "    if index not in choice_map.keys():\n",
    "        return True\n",
    "    elif game_board[choice_map[index]] == \" \":\n",
    "        return True\n",
    "    else:\n",
    "        return False\n",
    "\n",
    "choice = None\n",
    "#valid inputs the player can choose\n",
    "valid = [\"7\",\"8\",\"9\",\"4\",\"5\",\"6\",\"1\",\"2\",\"3\"]\n",
    "\n",
    "while choice not in valid and check_free_square(choice):\n",
    "    choice = input(f'Player: Pick your Square: ')\n",
    "    print(choice)\n",
    "    if choice not in valid:\n",
    "        print('Invalid option, try again.')\n",
    "    if not check_free_square(choice):\n",
    "        print(game_board)\n",
    "        print('Square already taken, please choose again.')\n",
    "        choice = None\n",
    "\n",
    "        \n",
    "print('\\n')\n",
    "print(game_board)"
   ]
  },
  {
   "cell_type": "code",
   "execution_count": 33,
   "id": "f7618d38",
   "metadata": {},
   "outputs": [
    {
     "name": "stdout",
     "output_type": "stream",
     "text": [
      "1\n"
     ]
    },
    {
     "data": {
      "text/plain": [
       "'X'"
      ]
     },
     "execution_count": 33,
     "metadata": {},
     "output_type": "execute_result"
    }
   ],
   "source": [
    "testi_ttt_list = ['X','X','X']\n",
    "ttt_set = set(testi_ttt_list)\n",
    "print(len(ttt_set))\n",
    "ttt_set.pop()"
   ]
  },
  {
   "cell_type": "code",
   "execution_count": 57,
   "id": "d6fb26a5",
   "metadata": {},
   "outputs": [
    {
     "name": "stdout",
     "output_type": "stream",
     "text": [
      "['7', ' ', ' ']\n",
      "['X', '.', 'X']\n",
      "[' ', ' ', ' ']\n",
      "['7', 'X', ' ']\n",
      "[' ', '.', ' ']\n",
      "[' ', 'X', ' ']\n",
      "['7', '.', ' ']\n",
      "[' ', '.', ' ']\n"
     ]
    },
    {
     "data": {
      "text/plain": [
       "False"
      ]
     },
     "execution_count": 57,
     "metadata": {},
     "output_type": "execute_result"
    }
   ],
   "source": [
    "#checkign for winning sequesnce in tic tac toe:\n",
    "\n",
    "def check_for_winner(game_board):\n",
    "    #check if 7,5,3 or 1,5,9 or 7,8,9 or 4,5,6 or 1,2,3 are all X or O\n",
    "    check_h1 = game_board[0:3]\n",
    "    check_h2 = game_board[3:6]\n",
    "    check_h3 = game_board[6:9]\n",
    "    check_v1 = [game_board[0], game_board[3], game_board[6]]\n",
    "    check_v2 = [game_board[1], game_board[4], game_board[7]]\n",
    "    check_v3 = [game_board[2], game_board[5], game_board[8]]\n",
    "    check_d1 = [game_board[0], game_board[4], game_board[8]]\n",
    "    check_d2 = [game_board[6], game_board[4], game_board[2]]\n",
    "    all_scenarios = [check_h1, check_h2, check_h3, check_v1, check_v2, check_v3, check_d1, check_d2]\n",
    "    \n",
    "    for element in all_scenarios:\n",
    "        print(element)\n",
    "        if len(set(element)) == 1 and set(element).pop() != ' ':\n",
    "            print('WINNER ! ! ! ! ')\n",
    "            return True\n",
    "            \n",
    "    return False\n",
    "\n",
    "\n",
    "        \n",
    "checking1 = [\"7\",\" \",\" \",'X','.','X',\" \",\" \",\" \"]\n",
    "checking2 = ['X','X','X']\n",
    "\n",
    "check_for_winner(checking1)"
   ]
  },
  {
   "cell_type": "code",
   "execution_count": 101,
   "id": "29eb8225",
   "metadata": {},
   "outputs": [],
   "source": [
    "test55 = 'nog'\n",
    "\n",
    "def reset_game():\n",
    "    test55 = 'test'\n",
    "    return test55"
   ]
  },
  {
   "cell_type": "code",
   "execution_count": 102,
   "id": "0a220a1f",
   "metadata": {},
   "outputs": [
    {
     "data": {
      "text/plain": [
       "'nog'"
      ]
     },
     "execution_count": 102,
     "metadata": {},
     "output_type": "execute_result"
    }
   ],
   "source": [
    "test55"
   ]
  },
  {
   "cell_type": "code",
   "execution_count": 97,
   "id": "70ecc9f9",
   "metadata": {},
   "outputs": [],
   "source": [
    "test55 = reset_game()"
   ]
  },
  {
   "cell_type": "code",
   "execution_count": 95,
   "id": "121f3f6a",
   "metadata": {},
   "outputs": [
    {
     "name": "stdout",
     "output_type": "stream",
     "text": [
      "test\n"
     ]
    }
   ],
   "source": [
    "print(test55)"
   ]
  },
  {
   "cell_type": "code",
   "execution_count": 106,
   "id": "5f53b555",
   "metadata": {},
   "outputs": [
    {
     "name": "stdout",
     "output_type": "stream",
     "text": [
      "Current time is: 22:36:19\n"
     ]
    }
   ],
   "source": [
    "from datetime import datetime\n",
    "import pytz\n",
    "\n",
    "# Get the timezone object for New York\n",
    "tz_TK = pytz.timezone('Asia/Tokyo') \n",
    "\n",
    "# Get the current time in New York\n",
    "datetime_TK = datetime.now(tz_TK)\n",
    "\n",
    "# Format the time as a string and print it\n",
    "print(\"Current time is:\", datetime_TK.strftime(\"%H:%M:%S\"))"
   ]
  },
  {
   "cell_type": "code",
   "execution_count": 3,
   "id": "8ba7dacb",
   "metadata": {},
   "outputs": [],
   "source": [
    "## OOP - Object Oriented Programming ## Class Structure, classes are in CammelCase\n",
    "\n",
    "# self connects methods to a class\n",
    "\n",
    "class NameOfClass():\n",
    "    \n",
    "    def __init__(self,param1,param2):\n",
    "        self.param1 = param1\n",
    "        self.param2 = param2\n",
    "\n",
    "    def some_method(self):\n",
    "        #perform some action\n",
    "        print(self.param1)\n"
   ]
  },
  {
   "cell_type": "code",
   "execution_count": 5,
   "id": "cd7e0db5",
   "metadata": {},
   "outputs": [
    {
     "data": {
      "text/plain": [
       "__main__.Sample"
      ]
     },
     "execution_count": 5,
     "metadata": {},
     "output_type": "execute_result"
    }
   ],
   "source": [
    "#create the class\n",
    "class Sample():\n",
    "    #create an attribute in the class, when a function is inside a class it's a method\n",
    "    # the __init__ method is called whenever there is an instance of the class, and the self allows it refer it to itself\n",
    "    pass  \n",
    "\n",
    "#create an instance of the class\n",
    "my_sample = Sample()\n",
    "\n",
    "type(my_sample)"
   ]
  },
  {
   "cell_type": "code",
   "execution_count": 14,
   "id": "1a5d934c",
   "metadata": {},
   "outputs": [
    {
     "name": "stdout",
     "output_type": "stream",
     "text": [
      "<class 'list'>\n",
      "<class '__main__.Dog'>\n"
     ]
    },
    {
     "data": {
      "text/plain": [
       "'Lab'"
      ]
     },
     "execution_count": 14,
     "metadata": {},
     "output_type": "execute_result"
    }
   ],
   "source": [
    "#class example\n",
    "\n",
    "class Dog():\n",
    "    #init method is the constructer of the class, self is the instance of the object itself, \n",
    "    #self is a reference to the instance of the class...\n",
    "    def __init__(self, breed):\n",
    "        #attributes are characteristics of the object.\n",
    "        #we take in the argument and assign it using self.attribute_name\n",
    "        #general convention is for the argument to be same name as attribute \n",
    "        self.breed = breed  #this is an attribute which is assigned to the argument.\n",
    "        \n",
    "\n",
    "#When you create an instance of the dog class, python will call the __init__ method and and use self \n",
    "#to represent the instance of the object itself\n",
    "#python expects you to pass in the argument breed\n",
    "my_dog = Dog(breed=\"Lab\")\n",
    "\n",
    "print(type([1,2,3]))\n",
    "print(type(my_dog))\n",
    "my_dog.breed"
   ]
  },
  {
   "cell_type": "code",
   "execution_count": 62,
   "id": "15693aef",
   "metadata": {},
   "outputs": [
    {
     "name": "stdout",
     "output_type": "stream",
     "text": [
      "True\n",
      "mammal\n",
      "\n",
      " Nyaa... My Name is Nok and I like Pizza! \n",
      "\n",
      "3.14\n",
      "3.14\n",
      "\n",
      " 1 \n",
      "\n",
      "6.28\n",
      "628.0\n"
     ]
    },
    {
     "data": {
      "text/plain": [
       "31400.0"
      ]
     },
     "execution_count": 62,
     "metadata": {},
     "output_type": "execute_result"
    }
   ],
   "source": [
    "#adding more attributes, for example I'll start a new class\n",
    "\n",
    "class Cat():\n",
    "    \n",
    "    #Class Object Attribute, it will be the same for any instance of a class. \n",
    "    #This attribute is define above the init method.\n",
    "    #this does not need a self keywork, the self only applies to a specific instance of a class,\n",
    "    #whereas this class object atribute is the same for any instance.\n",
    "    species = 'mammal'\n",
    "    \n",
    "    def __init__(self, breed, name, spots, age):\n",
    "        #expect string for this attribute\n",
    "        self.breed = breed\n",
    "        #expect string for this attribute\n",
    "        self.name = name\n",
    "        #expect boolean for this attribute\n",
    "        self.spots = spots\n",
    "        #expect a number for this attribute, you use type control to ensure it's number...\n",
    "        self.age = age\n",
    "        \n",
    "        #methods are functions defined inside the body of the class, and used to perform operations that can \n",
    "        #utilize the actual attributes of the object (ass) we created.\n",
    "            #Methods can take outside arguments, \n",
    "            #does not need self in this case since not connected to specific instance of the class\n",
    "    def meow(self, food):\n",
    "        print(f'\\n Nyaa... My Name is {self.name} and I like {food}! \\n')\n",
    "\n",
    "#use shift+tab to see what attributes are needed to create an instance of this class\n",
    "my_cat = Cat(breed=\"Tabby\",name=\"Jet\",spots=True,age=11)\n",
    "\n",
    "#you can call these to check what the instance of the attribute in that class is\n",
    "print(my_cat.spots)\n",
    "#attributes can be called, nothing to execute, no brackets needed\n",
    "print(my_cat.species)\n",
    "\n",
    "\n",
    "second_cat = Cat(\"Siamese\",\"Nok\",False,\"27\")\n",
    "\n",
    "second_cat.meow('Pizza')\n",
    "\n",
    "\n",
    "#another example:\n",
    "\n",
    "class Circle():\n",
    "    # Class Object Attribute\n",
    "    pi = 3.14\n",
    "    \n",
    "    #can define default values\n",
    "    def __init__(self,radius=1):\n",
    "        self.radius = radius\n",
    "        # an attribute doesn't have to be in the argument:\n",
    "        #### the Class Object Attribute can be references as \"Circle.pi\" instead of self !!\n",
    "        self.area = self.pi * radius**2\n",
    "        \n",
    "    # Method.  Has self so it can reference the particular instance of the object\n",
    "    def get_circumference(self):\n",
    "        return self.radius * self.pi * 2\n",
    "    \n",
    "# let's create an instance of Circle class called circle 1\n",
    "## the init method automatically gets executed when you create an instance of it's class\n",
    "my_circle1 = Circle()\n",
    "\n",
    "# let's create an instance of Circle class called circle 2, but overwriting the default value for radius\n",
    "my_circle2 = Circle(100)\n",
    "\n",
    "#Notice Pi is same for both instances of the circle class!\n",
    "print(my_circle1.pi)\n",
    "print(my_circle2.pi)\n",
    "#notice the default value of 1\n",
    "print('\\n',my_circle1.radius,'\\n')\n",
    "\n",
    "print(my_circle1.get_circumference())\n",
    "print(my_circle2.get_circumference())\n",
    "my_circle2.area"
   ]
  },
  {
   "cell_type": "code",
   "execution_count": 94,
   "id": "9e8ed82d",
   "metadata": {},
   "outputs": [
    {
     "name": "stdout",
     "output_type": "stream",
     "text": [
      "Animal Created\n",
      "I am eating \n",
      "\n",
      "I am an Animal - ORIGINALLLLLLLLL\n",
      "Animal Created\n",
      "Bird Created\n",
      "Lizard Created\n",
      " \n",
      "I am an Animal - ORIGINALLLLLLLLL\n",
      "I am an Animal - Newwwwwww ! ! ! \n",
      "I am an Animal - ORIGINALLLLLLLLL\n",
      "I am a Geko ...\n",
      " \n",
      "<class '__main__.Bird'>\n",
      "I am an Animal - Newwwwwww ! ! ! \n",
      "<class '__main__.Animal'>\n",
      "I am an Animal - ORIGINALLLLLLLLL\n",
      "<class '__main__.Lizard'>\n",
      "I am an Animal - ORIGINALLLLLLLLL\n"
     ]
    }
   ],
   "source": [
    "# OOP - inheritance and polymorphism.\n",
    "\n",
    "# Inheritance is a way to form new classes using classes that have already been defined\n",
    "\n",
    "#example, create a base class:\n",
    "class Animal():\n",
    "    \n",
    "    def __init__(self):\n",
    "        print(\"Animal Created\")\n",
    "        \n",
    "    def who_am_i(self):\n",
    "        print(\"I am an Animal - ORIGINALLLLLLLLL\")\n",
    "        \n",
    "    def eat(self):\n",
    "        print(\"I am eating \\n\")\n",
    "        \n",
    "# will print \"Animal created\" because the initit method automatically gets executed when we create an Animal class instance.\n",
    "myanimal = Animal()\n",
    "myanimal.eat()\n",
    "myanimal.who_am_i()\n",
    "\n",
    "# A newly formed class can use a base class (The Animal class in this ex.) in order to inherit some it's methods.\n",
    "## A derived class because it derivs from Animal\n",
    "class Bird(Animal):\n",
    "    \n",
    "    # we will create an instance of Animal class when we create an instance of Bird class because it inherents.\n",
    "    # Bird will inherit the methods of Animal\n",
    "    def __init__(self):\n",
    "        Animal.__init__(self)\n",
    "        print(\"Bird Created\")\n",
    "        \n",
    "    # to overwrite a method inherited just use the same method name:\n",
    "    def who_am_i(self):\n",
    "        print(\"I am an Animal - Newwwwwww ! ! ! \")\n",
    "\n",
    "class Lizard(Animal):\n",
    "    def __init__(self):\n",
    "        print(\"Lizard Created\")\n",
    "        \n",
    "    def what_kind(self, species):\n",
    "        print(f'I am a {species} ...')\n",
    "\n",
    "mybird = Bird()\n",
    "mylizard = Lizard()\n",
    "\n",
    "print(\" \")\n",
    "\n",
    "myanimal.who_am_i()\n",
    "mybird.who_am_i()\n",
    "mylizard.who_am_i()\n",
    "mylizard.what_kind('Geko')\n",
    "\n",
    "print(\" \")\n",
    "\n",
    "# you can iterate through classes:\n",
    "for pet_class in [mybird, myanimal, mylizard]:\n",
    "    print(type(pet_class))\n",
    "    pet_class.who_am_i()\n",
    "\n",
    "# Methods belong to the objects they act on.\n",
    "## Polymorphism is where two Classes may have the same method \"speak\" but Dog says Woof while Cat says Meow,\n",
    "## so you can leverage this by iteratign through that method or passing it into a function but would get different\n",
    "## object specific results.\n",
    "\n",
    "# Abstract Classes & Inheritance are not meant to be created as an instance but rather to serve as a base class inheritance.\n",
    "     "
   ]
  },
  {
   "cell_type": "code",
   "execution_count": 102,
   "id": "a8e22bee",
   "metadata": {},
   "outputs": [
    {
     "name": "stdout",
     "output_type": "stream",
     "text": [
      "<__main__.Animal object at 0x0000020910BE6790>\n",
      "FOrgot name by Orwell has 200.\n",
      "<__main__.Animal object at 0x0000020910BE6790>\n",
      "FOrgot name by Orwell has 200.\n",
      "200\n",
      "A book was deleted\n"
     ]
    }
   ],
   "source": [
    "# special Methods: allows us to use some built in operators in python such as the length or \n",
    "# print function to our own user defines objects...\n",
    "\n",
    "## check Python docs for many more special or \"Dunder\" methods... dunder = double underscore\n",
    "class Book():\n",
    "    \n",
    "    def __init__(self, title, author, pages):\n",
    "        self.title = title\n",
    "        self.author = author\n",
    "        self.pages = pages\n",
    "        \n",
    "    #special method for the print function, created a string representation of the object\n",
    "    def __str__(self):\n",
    "        return f\"{self.title} by {self.author} has {self.pages}.\"\n",
    "    \n",
    "    #special method for length\n",
    "    def __len__(self):\n",
    "        return self.pages\n",
    "    \n",
    "    #for when you delete a class object instance you can have it do stuff:\n",
    "    def __del__(self):\n",
    "        print(\"A book was deleted\")\n",
    "    \n",
    "b = Book(\"FOrgot name\",\"Orwell\",200)\n",
    "\n",
    "print(myanimal)\n",
    "# vs. the Book class with the special method\n",
    "print(b)\n",
    "#note the str method works too because it's the same\n",
    "print(str(myanimal))\n",
    "print(str(b))\n",
    "print(len(b))\n",
    "\n",
    "del b"
   ]
  },
  {
   "cell_type": "code",
   "execution_count": null,
   "id": "8389165c",
   "metadata": {},
   "outputs": [],
   "source": []
  }
 ],
 "metadata": {
  "kernelspec": {
   "display_name": "Python 3 (ipykernel)",
   "language": "python",
   "name": "python3"
  },
  "language_info": {
   "codemirror_mode": {
    "name": "ipython",
    "version": 3
   },
   "file_extension": ".py",
   "mimetype": "text/x-python",
   "name": "python",
   "nbconvert_exporter": "python",
   "pygments_lexer": "ipython3",
   "version": "3.11.2"
  }
 },
 "nbformat": 4,
 "nbformat_minor": 5
}
